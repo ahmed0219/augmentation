{
 "cells": [
  {
   "cell_type": "code",
   "execution_count": null,
   "metadata": {},
   "outputs": [],
   "source": [
    "import pandas as pd\n",
    "import numpy as np\n",
    "import matplotlib.pyplot as plt\n",
    "import csv\n",
    "import sys\n",
    "import os\n",
    "import cv2\n"
   ]
  },
  {
   "cell_type": "code",
   "execution_count": null,
   "metadata": {},
   "outputs": [],
   "source": [
    "\n",
    "lat_a = (35, 52, 19.05)  \n",
    "lon_a = (10, 36, 10.28)  \n",
    "lat_b = (35, 49, 42.16)  \n",
    "lon_b = (10, 37, 24.06)  \n",
    "def dms_to_dd(degrees, minutes, seconds):\n",
    "    return degrees + minutes / 60 + seconds / 3600\n",
    "lat_a_dd = dms_to_dd(*lat_a)\n",
    "lon_a_dd = dms_to_dd(*lon_a)\n",
    "lat_b_dd = dms_to_dd(*lat_b)\n",
    "lon_b_dd = dms_to_dd(*lon_b)\n",
    "path = 'E:/data'\n",
    "num_steps = len([f for f in os.listdir(path)if f.endswith('.jpg')])-1\n",
    "interpolated_coords = []\n",
    "for i in range(num_steps + 1):\n",
    "    ratio = i / num_steps\n",
    "    lat = lat_a_dd + (lat_b_dd - lat_a_dd) * ratio\n",
    "    lon = lon_a_dd + (lon_b_dd - lon_a_dd) * ratio\n",
    "    interpolated_coords.append((lat, lon))\n",
    "\n"
   ]
  },
  {
   "cell_type": "code",
   "execution_count": null,
   "metadata": {},
   "outputs": [],
   "source": [
    "\n",
    "def dd_to_dms(decimal_degrees):\n",
    "    degrees = int(decimal_degrees)\n",
    "    minutes = int((decimal_degrees - degrees) * 60)\n",
    "    seconds = (decimal_degrees - degrees - minutes / 60) * 3600\n",
    "    return degrees, minutes, seconds\n",
    "\n"
   ]
  },
  {
   "cell_type": "code",
   "execution_count": null,
   "metadata": {},
   "outputs": [],
   "source": [
    "data_dir = \"C:/Users/ahmed/Desktop/test\"\n",
    "image_files = os.listdir(path)\n",
    "image_coords_list = []\n",
    "for image_file, coord in zip(image_files, interpolated_coords):\n",
    "    lat_deg, lat_min, lat_sec = dd_to_dms(coord[0])\n",
    "    lon_deg, lon_min, lon_sec = dd_to_dms(coord[1])\n",
    "    lat_str = f\"{lat_deg}°{lat_min}'{lat_sec:.2f}\\\"N\"\n",
    "    lon_str = f\"{lon_deg}°{lon_min}'{lon_sec:.2f}\\\"E\"\n",
    "\n",
    "    image_coords_list.append((image_file, lat_str, lon_str))\n",
    "\n",
    "\n",
    "csv_filename = \"image_coordinates.csv\"\n",
    "csv_filepath = os.path.join(data_dir, csv_filename)\n",
    "with open(csv_filepath, \"w\", newline=\"\") as csvfile:\n",
    "    writer = csv.writer(csvfile)\n",
    "    writer.writerow([\"Image Name\", \"Latitude\", \"Longitude\"])\n",
    "    for image_coord in image_coords_list:\n",
    "        writer.writerow(image_coord)\n",
    "\n",
    "print(f\"CSV file '{csv_filepath}' has been created successfully.\")"
   ]
  },
  {
   "cell_type": "code",
   "execution_count": null,
   "metadata": {},
   "outputs": [],
   "source": [
    "df=pd.read_csv(csv_filepath)"
   ]
  },
  {
   "cell_type": "code",
   "execution_count": null,
   "metadata": {},
   "outputs": [],
   "source": [
    "import csv\n",
    "import os\n",
    "import cv2\n",
    "\n",
    "\n",
    "\n",
    "# Open the existing CSV file in append mode and create a CSV writer object\n",
    "with open(csv_filepath, 'a', newline='') as csvfile:\n",
    "    csv_writer = csv.writer(csvfile)\n",
    "\n",
    "    # Loop through each image file\n",
    "    i = 0\n",
    "    while i < len(df):\n",
    "        for image in image_files:\n",
    "            a = df['Image Name'][i]\n",
    "            a = a.split('-')\n",
    "            a = a[0] + 'rgb-' + a[1]\n",
    "            b = df['Latitude'][i]\n",
    "            c = df['Longitude'][i]\n",
    "\n",
    "            # Write the data to the CSV file\n",
    "            csv_writer.writerow([a, b, c])\n",
    "            i = i + 1\n",
    "\n",
    "            # Assuming you want to process the image here\n",
    "            image_path = os.path.join(path, image)\n",
    "            img = cv2.imread(image_path)\n",
    "            grayscale = cv2.cvtColor(img, cv2.COLOR_BGR2GRAY)\n",
    "            cv2.imwrite('E:/grayscale' + a, grayscale)\n"
   ]
  }
 ],
 "metadata": {
  "kernelspec": {
   "display_name": "myenv",
   "language": "python",
   "name": "python3"
  },
  "language_info": {
   "codemirror_mode": {
    "name": "ipython",
    "version": 3
   },
   "file_extension": ".py",
   "mimetype": "text/x-python",
   "name": "python",
   "nbconvert_exporter": "python",
   "pygments_lexer": "ipython3",
   "version": "3.12.2"
  }
 },
 "nbformat": 4,
 "nbformat_minor": 2
}
