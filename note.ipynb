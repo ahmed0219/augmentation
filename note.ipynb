{
 "cells": [
  {
   "cell_type": "code",
   "execution_count": 1,
   "metadata": {},
   "outputs": [],
   "source": [
    "import pandas as pd\n",
    "import numpy as np\n",
    "import matplotlib.pyplot as plt\n",
    "import csv\n",
    "import sys\n",
    "import os\n",
    "import cv2\n"
   ]
  },
  {
   "cell_type": "code",
   "execution_count": 4,
   "metadata": {},
   "outputs": [],
   "source": [
    "\n",
    "lat_a = (35, 52, 19.05)  \n",
    "lon_a = (10, 36, 10.28)  \n",
    "lat_b = (35, 49, 42.16)  \n",
    "lon_b = (10, 37, 24.06)  \n",
    "def dms_to_dd(degrees, minutes, seconds):\n",
    "    return degrees + minutes / 60 + seconds / 3600\n",
    "lat_a_dd = dms_to_dd(*lat_a)\n",
    "lon_a_dd = dms_to_dd(*lon_a)\n",
    "lat_b_dd = dms_to_dd(*lat_b)\n",
    "lon_b_dd = dms_to_dd(*lon_b)\n",
    "path = 'E:/dataset'\n",
    "num_steps = len([f for f in os.listdir(path)if f.endswith('.jpg')])-1\n",
    "interpolated_coords = []\n",
    "for i in range(num_steps + 1):\n",
    "    ratio = i / num_steps\n",
    "    lat = lat_a_dd + (lat_b_dd - lat_a_dd) * ratio\n",
    "    lon = lon_a_dd + (lon_b_dd - lon_a_dd) * ratio\n",
    "    interpolated_coords.append((lat, lon))\n",
    "\n"
   ]
  },
  {
   "cell_type": "code",
   "execution_count": 5,
   "metadata": {},
   "outputs": [],
   "source": [
    "\n",
    "def dd_to_dms(decimal_degrees):\n",
    "    degrees = int(decimal_degrees)\n",
    "    minutes = int((decimal_degrees - degrees) * 60)\n",
    "    seconds = (decimal_degrees - degrees - minutes / 60) * 3600\n",
    "    return degrees, minutes, seconds\n",
    "\n"
   ]
  },
  {
   "cell_type": "code",
   "execution_count": 6,
   "metadata": {},
   "outputs": [
    {
     "name": "stdout",
     "output_type": "stream",
     "text": [
      "CSV file 'E:/image_coordinates.csv' has been created successfully.\n"
     ]
    }
   ],
   "source": [
    "#data_dir = \"C:/Users/ahmed/Desktop/test\"\n",
    "data_dir = 'E:/'\n",
    "image_files = os.listdir(path)\n",
    "image_coords_list = []\n",
    "for image_file, coord in zip(image_files, interpolated_coords):\n",
    "    lat_deg, lat_min, lat_sec = dd_to_dms(coord[0])\n",
    "    lon_deg, lon_min, lon_sec = dd_to_dms(coord[1])\n",
    "    lat_str = f\"{lat_deg}°{lat_min}'{lat_sec:.2f}\\\"N\"\n",
    "    lon_str = f\"{lon_deg}°{lon_min}'{lon_sec:.2f}\\\"E\"\n",
    "\n",
    "    image_coords_list.append((image_file, lat_str, lon_str))\n",
    "\n",
    "\n",
    "csv_filename = \"image_coordinates.csv\"\n",
    "csv_filepath = os.path.join(data_dir, csv_filename)\n",
    "with open(csv_filepath, \"w\", newline=\"\") as csvfile:\n",
    "    writer = csv.writer(csvfile)\n",
    "    writer.writerow([\"Image Name\", \"Latitude\", \"Longitude\"])\n",
    "    for image_coord in image_coords_list:\n",
    "        writer.writerow(image_coord)\n",
    "\n",
    "print(f\"CSV file '{csv_filepath}' has been created successfully.\")"
   ]
  },
  {
   "cell_type": "code",
   "execution_count": 7,
   "metadata": {},
   "outputs": [],
   "source": [
    "df = pd.read_csv(csv_filepath, encoding=\"latin-1\")"
   ]
  },
  {
   "cell_type": "code",
   "execution_count": 8,
   "metadata": {},
   "outputs": [
    {
     "data": {
      "text/html": [
       "<div>\n",
       "<style scoped>\n",
       "    .dataframe tbody tr th:only-of-type {\n",
       "        vertical-align: middle;\n",
       "    }\n",
       "\n",
       "    .dataframe tbody tr th {\n",
       "        vertical-align: top;\n",
       "    }\n",
       "\n",
       "    .dataframe thead th {\n",
       "        text-align: right;\n",
       "    }\n",
       "</style>\n",
       "<table border=\"1\" class=\"dataframe\">\n",
       "  <thead>\n",
       "    <tr style=\"text-align: right;\">\n",
       "      <th></th>\n",
       "      <th>Image Name</th>\n",
       "      <th>Latitude</th>\n",
       "      <th>Longitude</th>\n",
       "    </tr>\n",
       "  </thead>\n",
       "  <tbody>\n",
       "    <tr>\n",
       "      <th>3148</th>\n",
       "      <td>dataset-003148.jpg</td>\n",
       "      <td>35°49'42.36\"N</td>\n",
       "      <td>10°37'23.97\"E</td>\n",
       "    </tr>\n",
       "    <tr>\n",
       "      <th>3149</th>\n",
       "      <td>dataset-003149.jpg</td>\n",
       "      <td>35°49'42.31\"N</td>\n",
       "      <td>10°37'23.99\"E</td>\n",
       "    </tr>\n",
       "    <tr>\n",
       "      <th>3150</th>\n",
       "      <td>dataset-003150.jpg</td>\n",
       "      <td>35°49'42.26\"N</td>\n",
       "      <td>10°37'24.01\"E</td>\n",
       "    </tr>\n",
       "    <tr>\n",
       "      <th>3151</th>\n",
       "      <td>dataset-003151.jpg</td>\n",
       "      <td>35°49'42.21\"N</td>\n",
       "      <td>10°37'24.04\"E</td>\n",
       "    </tr>\n",
       "    <tr>\n",
       "      <th>3152</th>\n",
       "      <td>dataset-003152.jpg</td>\n",
       "      <td>35°49'42.16\"N</td>\n",
       "      <td>10°37'24.06\"E</td>\n",
       "    </tr>\n",
       "  </tbody>\n",
       "</table>\n",
       "</div>"
      ],
      "text/plain": [
       "              Image Name       Latitude      Longitude\n",
       "3148  dataset-003148.jpg  35°49'42.36\"N  10°37'23.97\"E\n",
       "3149  dataset-003149.jpg  35°49'42.31\"N  10°37'23.99\"E\n",
       "3150  dataset-003150.jpg  35°49'42.26\"N  10°37'24.01\"E\n",
       "3151  dataset-003151.jpg  35°49'42.21\"N  10°37'24.04\"E\n",
       "3152  dataset-003152.jpg  35°49'42.16\"N  10°37'24.06\"E"
      ]
     },
     "execution_count": 8,
     "metadata": {},
     "output_type": "execute_result"
    }
   ],
   "source": [
    "df.tail()"
   ]
  },
  {
   "cell_type": "code",
   "execution_count": 16,
   "metadata": {},
   "outputs": [
    {
     "data": {
      "text/plain": [
       "\"transform='gray_scale'\\ntransform_dir = os.path.join(path,transform)\\nprint(transform_dir)\""
      ]
     },
     "execution_count": 16,
     "metadata": {},
     "output_type": "execute_result"
    }
   ],
   "source": [
    "\"\"\"transform='gray_scale'\n",
    "transform_dir = os.path.join(path,transform)\n",
    "print(transform_dir)\"\"\""
   ]
  },
  {
   "cell_type": "code",
   "execution_count": 17,
   "metadata": {},
   "outputs": [],
   "source": [
    "#os.makedirs(transform_dir, exist_ok=True)"
   ]
  },
  {
   "cell_type": "code",
   "execution_count": 18,
   "metadata": {},
   "outputs": [
    {
     "data": {
      "text/plain": [
       "\"os.makedirs(transform_dir, exist_ok=True)\\n\\n    # Create a CSV file for the current transformation type\\ntransform_csv_path = os.path.join(transform_dir,  + '_data.csv')\\nwith open(transform_csv_path, 'w', newline='') as csvfile:\\n        csv_writer = csv.writer(csvfile)\\n# Open the existing CSV file in append mode and create a CSV writer object\\n#with open(csv_filepath, 'a', newline='') as csvfile:\\n    #csv_writer = csv.writer(csvfile)\\n\\n    # Loop through each image file\\ni = 0\\nwhile i < len(df):\\n        for image in image_files:\\n            a = df['Image Name'][i]\\n            a = a.split('-')\\n            a = a[0] + 'rgb-' + a[1]\\n            b = df['Latitude'][i]\\n            c = df['Longitude'][i]\\n\\n            # Write the data to the CSV file\\n            csv_writer.writerow([a, b, c])\\n            i = i + 1\\n\\n            # Assuming you want to process the image here\\n            image_path = os.path.join(path, image)\\n            img = cv2.imread(image_path)\\n            grayscale = cv2.cvtColor(img, cv2.COLOR_BGR2GRAY)\\n            cv2.imwrite('E:/grayscale' + a, grayscale)\""
      ]
     },
     "execution_count": 18,
     "metadata": {},
     "output_type": "execute_result"
    }
   ],
   "source": [
    "\n",
    "\n",
    "\"\"\"os.makedirs(transform_dir, exist_ok=True)\n",
    "\n",
    "    # Create a CSV file for the current transformation type\n",
    "transform_csv_path = os.path.join(transform_dir,  + '_data.csv')\n",
    "with open(transform_csv_path, 'w', newline='') as csvfile:\n",
    "        csv_writer = csv.writer(csvfile)\n",
    "# Open the existing CSV file in append mode and create a CSV writer object\n",
    "#with open(csv_filepath, 'a', newline='') as csvfile:\n",
    "    #csv_writer = csv.writer(csvfile)\n",
    "\n",
    "    # Loop through each image file\n",
    "i = 0\n",
    "while i < len(df):\n",
    "        for image in image_files:\n",
    "            a = df['Image Name'][i]\n",
    "            a = a.split('-')\n",
    "            a = a[0] + 'rgb-' + a[1]\n",
    "            b = df['Latitude'][i]\n",
    "            c = df['Longitude'][i]\n",
    "\n",
    "            # Write the data to the CSV file\n",
    "            csv_writer.writerow([a, b, c])\n",
    "            i = i + 1\n",
    "\n",
    "            # Assuming you want to process the image here\n",
    "            image_path = os.path.join(path, image)\n",
    "            img = cv2.imread(image_path)\n",
    "            grayscale = cv2.cvtColor(img, cv2.COLOR_BGR2GRAY)\n",
    "            cv2.imwrite('E:/grayscale' + a, grayscale)\"\"\""
   ]
  },
  {
   "cell_type": "code",
   "execution_count": 19,
   "metadata": {},
   "outputs": [
    {
     "data": {
      "text/plain": [
       "\"import cv2\\nimport csv\\nimport os\\n\\ndef process_images(csv_filepath, df, image_files, path, transform_type):\\n    # Open the existing CSV file in append mode and create a CSV writer object\\n    with open(csv_filepath, 'a', newline='') as csvfile:\\n        csv_writer = csv.writer(csvfile)\\n\\n        # Loop through each image file\\n        i = 0\\n        while i < len(df):\\n            for image in image_files:\\n                a = df['Image Name'][i]\\n                a = a.split('-')\\n                \\n                if transform_type == 'grayscale':\\n                    a = a[0] + 'grayscale-' + a[1]\\n                elif transform_type == 'resize':\\n                    a = a[0] + 'resize-' + a[1]\\n                elif transform_type == 'flip':\\n                    a = a[0] + 'flip-' + a[1]\\n                elif transform_type == 'rotate':\\n                    a = a[0] + 'rotate-' + a[1]\\n                elif transform_type == 'crop':\\n                    a = a[0] + 'crop-' + a[1]\\n\\n                b = df['Latitude'][i]\\n                c = df['Longitude'][i]\\n\\n                # Write the data to the CSV file\\n                csv_writer.writerow([a, b, c])\\n                i = i + 1\\n\\n                # Process the image based on the transform_type parameter\\n                image_path = os.path.join(path, image)\\n                img = cv2.imread(image_path)\\n                if transform_type == 'grayscale':\\n                    grayscale = cv2.cvtColor(img, cv2.COLOR_BGR2GRAY)\\n                    cv2.imwrite(os.path.join('E:/grayscale/', a), grayscale)\\n                elif transform_type == 'resize':\\n                    resized = cv2.resize(img, (280, 360))\\n                    cv2.imwrite(os.path.join('E:/resized/', a), resized)\\n                elif transform_type == 'flip':\\n                    flipped = cv2.flip(img, 1)  # 1 for horizontal flip, 0 for vertical flip\\n                    cv2.imwrite(os.path.join('E:/flip/', a), flipped)\\n                elif transform_type == 'rotate':\\n                    rotated = cv2.rotate(img, cv2.ROTATE_90_CLOCKWISE)  # or cv2.ROTATE_90_COUNTERCLOCKWISE\\n                    cv2.imwrite(os.path.join('E:/rotated/', a), rotated)\\n                elif transform_type == 'crop':\\n                    cropped = img[50:250, 50:250]  # Define your crop region\\n                    cv2.imwrite(os.path.join('E:/crop/', a), cropped)\""
      ]
     },
     "execution_count": 19,
     "metadata": {},
     "output_type": "execute_result"
    }
   ],
   "source": [
    "\"\"\"import cv2\n",
    "import csv\n",
    "import os\n",
    "\n",
    "def process_images(csv_filepath, df, image_files, path, transform_type):\n",
    "    # Open the existing CSV file in append mode and create a CSV writer object\n",
    "    with open(csv_filepath, 'a', newline='') as csvfile:\n",
    "        csv_writer = csv.writer(csvfile)\n",
    "\n",
    "        # Loop through each image file\n",
    "        i = 0\n",
    "        while i < len(df):\n",
    "            for image in image_files:\n",
    "                a = df['Image Name'][i]\n",
    "                a = a.split('-')\n",
    "                \n",
    "                if transform_type == 'grayscale':\n",
    "                    a = a[0] + 'grayscale-' + a[1]\n",
    "                elif transform_type == 'resize':\n",
    "                    a = a[0] + 'resize-' + a[1]\n",
    "                elif transform_type == 'flip':\n",
    "                    a = a[0] + 'flip-' + a[1]\n",
    "                elif transform_type == 'rotate':\n",
    "                    a = a[0] + 'rotate-' + a[1]\n",
    "                elif transform_type == 'crop':\n",
    "                    a = a[0] + 'crop-' + a[1]\n",
    "\n",
    "                b = df['Latitude'][i]\n",
    "                c = df['Longitude'][i]\n",
    "\n",
    "                # Write the data to the CSV file\n",
    "                csv_writer.writerow([a, b, c])\n",
    "                i = i + 1\n",
    "\n",
    "                # Process the image based on the transform_type parameter\n",
    "                image_path = os.path.join(path, image)\n",
    "                img = cv2.imread(image_path)\n",
    "                if transform_type == 'grayscale':\n",
    "                    grayscale = cv2.cvtColor(img, cv2.COLOR_BGR2GRAY)\n",
    "                    cv2.imwrite(os.path.join('E:/grayscale/', a), grayscale)\n",
    "                elif transform_type == 'resize':\n",
    "                    resized = cv2.resize(img, (280, 360))\n",
    "                    cv2.imwrite(os.path.join('E:/resized/', a), resized)\n",
    "                elif transform_type == 'flip':\n",
    "                    flipped = cv2.flip(img, 1)  # 1 for horizontal flip, 0 for vertical flip\n",
    "                    cv2.imwrite(os.path.join('E:/flip/', a), flipped)\n",
    "                elif transform_type == 'rotate':\n",
    "                    rotated = cv2.rotate(img, cv2.ROTATE_90_CLOCKWISE)  # or cv2.ROTATE_90_COUNTERCLOCKWISE\n",
    "                    cv2.imwrite(os.path.join('E:/rotated/', a), rotated)\n",
    "                elif transform_type == 'crop':\n",
    "                    cropped = img[50:250, 50:250]  # Define your crop region\n",
    "                    cv2.imwrite(os.path.join('E:/crop/', a), cropped)\"\"\"\n"
   ]
  },
  {
   "cell_type": "code",
   "execution_count": 20,
   "metadata": {},
   "outputs": [
    {
     "data": {
      "text/plain": [
       "'import cv2\\nimport csv\\nimport os\\n\\ndef process_images(csv_filepath, df, image_files, path, transform_type):\\n    print(\"DataFrame length:\", len(df))  # Check the length of the DataFrame\\n\\n    # Create directories for each transformation type if they don\\'t exist\\n    transform_dir = os.path.join(path, transform_type)\\n    os.makedirs(transform_dir, exist_ok=True)\\n\\n    # Create a CSV file for the current transformation type\\n    transform_csv_path = os.path.join(transform_dir, transform_type + \\'_data.csv\\')\\n    with open(transform_csv_path, \\'w\\', newline=\\'\\') as csvfile:\\n        csv_writer = csv.writer(csvfile)\\n\\n        # Loop through each image file\\n        i = 0\\n        while i < len(df):\\n            for image in image_files:\\n                a = df[\\'Image Name\\'][i]\\n                a = a.split(\\'-\\')\\n                \\n                if transform_type == \\'grayscale\\':\\n                    a = a[0] + \\'grayscale-\\' + a[1]\\n                elif transform_type == \\'resize\\':\\n                    a = a[0] + \\'resize-\\' + a[1]\\n                elif transform_type == \\'flip\\':\\n                    a = a[0] + \\'flip-\\' + a[1]\\n                elif transform_type == \\'rotate\\':\\n                    a = a[0] + \\'rotate-\\' + a[1]\\n                elif transform_type == \\'crop\\':\\n                    a = a[0] + \\'crop-\\' + a[1]\\n\\n                b = df[\\'Latitude\\'][i]\\n                c = df[\\'Longitude\\'][i]\\n\\n                # Write the data to the CSV file\\n                csv_writer.writerow([a, b, c])\\n                i = i + 1\\n\\n                # Process the image based on the transform_type parameter\\n                image_path = os.path.join(path, image)\\n                img = cv2.imread(image_path)\\n                if transform_type == \\'grayscale\\':\\n                    grayscale = cv2.cvtColor(img, cv2.COLOR_BGR2GRAY)\\n                    cv2.imwrite(os.path.join(transform_dir, a), grayscale)\\n                elif transform_type == \\'resize\\':\\n                    resized = cv2.resize(img, (280, 360))\\n                    cv2.imwrite(os.path.join(transform_dir, a), resized)\\n                elif transform_type == \\'flip\\':\\n                    flipped = cv2.flip(img, 1)  # 1 for horizontal flip, 0 for vertical flip\\n                    cv2.imwrite(os.path.join(transform_dir, a), flipped)\\n                elif transform_type == \\'rotate\\':\\n                    rotated = cv2.rotate(img, cv2.ROTATE_90_CLOCKWISE)  # or cv2.ROTATE_90_COUNTERCLOCKWISE\\n                    cv2.imwrite(os.path.join(transform_dir, a), rotated)\\n                elif transform_type == \\'crop\\':\\n                    cropped = img[50:250, 50:250]  # Define your crop region\\n                    cv2.imwrite(os.path.join(transform_dir, a), cropped)'"
      ]
     },
     "execution_count": 20,
     "metadata": {},
     "output_type": "execute_result"
    }
   ],
   "source": [
    "\"\"\"import cv2\n",
    "import csv\n",
    "import os\n",
    "\n",
    "def process_images(csv_filepath, df, image_files, path, transform_type):\n",
    "    print(\"DataFrame length:\", len(df))  # Check the length of the DataFrame\n",
    "\n",
    "    # Create directories for each transformation type if they don't exist\n",
    "    transform_dir = os.path.join(path, transform_type)\n",
    "    os.makedirs(transform_dir, exist_ok=True)\n",
    "\n",
    "    # Create a CSV file for the current transformation type\n",
    "    transform_csv_path = os.path.join(transform_dir, transform_type + '_data.csv')\n",
    "    with open(transform_csv_path, 'w', newline='') as csvfile:\n",
    "        csv_writer = csv.writer(csvfile)\n",
    "\n",
    "        # Loop through each image file\n",
    "        i = 0\n",
    "        while i < len(df):\n",
    "            for image in image_files:\n",
    "                a = df['Image Name'][i]\n",
    "                a = a.split('-')\n",
    "                \n",
    "                if transform_type == 'grayscale':\n",
    "                    a = a[0] + 'grayscale-' + a[1]\n",
    "                elif transform_type == 'resize':\n",
    "                    a = a[0] + 'resize-' + a[1]\n",
    "                elif transform_type == 'flip':\n",
    "                    a = a[0] + 'flip-' + a[1]\n",
    "                elif transform_type == 'rotate':\n",
    "                    a = a[0] + 'rotate-' + a[1]\n",
    "                elif transform_type == 'crop':\n",
    "                    a = a[0] + 'crop-' + a[1]\n",
    "\n",
    "                b = df['Latitude'][i]\n",
    "                c = df['Longitude'][i]\n",
    "\n",
    "                # Write the data to the CSV file\n",
    "                csv_writer.writerow([a, b, c])\n",
    "                i = i + 1\n",
    "\n",
    "                # Process the image based on the transform_type parameter\n",
    "                image_path = os.path.join(path, image)\n",
    "                img = cv2.imread(image_path)\n",
    "                if transform_type == 'grayscale':\n",
    "                    grayscale = cv2.cvtColor(img, cv2.COLOR_BGR2GRAY)\n",
    "                    cv2.imwrite(os.path.join(transform_dir, a), grayscale)\n",
    "                elif transform_type == 'resize':\n",
    "                    resized = cv2.resize(img, (280, 360))\n",
    "                    cv2.imwrite(os.path.join(transform_dir, a), resized)\n",
    "                elif transform_type == 'flip':\n",
    "                    flipped = cv2.flip(img, 1)  # 1 for horizontal flip, 0 for vertical flip\n",
    "                    cv2.imwrite(os.path.join(transform_dir, a), flipped)\n",
    "                elif transform_type == 'rotate':\n",
    "                    rotated = cv2.rotate(img, cv2.ROTATE_90_CLOCKWISE)  # or cv2.ROTATE_90_COUNTERCLOCKWISE\n",
    "                    cv2.imwrite(os.path.join(transform_dir, a), rotated)\n",
    "                elif transform_type == 'crop':\n",
    "                    cropped = img[50:250, 50:250]  # Define your crop region\n",
    "                    cv2.imwrite(os.path.join(transform_dir, a), cropped)\"\"\"\n"
   ]
  },
  {
   "cell_type": "code",
   "execution_count": null,
   "metadata": {},
   "outputs": [],
   "source": []
  },
  {
   "cell_type": "code",
   "execution_count": 16,
   "metadata": {},
   "outputs": [],
   "source": [
    "import cv2\n",
    "import csv\n",
    "import os\n",
    "\n",
    "def process_images(csv_filepath, df, image_files, path, transform_type,output_path):\n",
    "    # Create directories for each transformation type if they don't exist\n",
    "    output_dir = os.path.join(output_path, transform_type)\n",
    "    os.makedirs(output_dir, exist_ok=True)\n",
    "\n",
    "    # Create a new CSV file for each transformation type\n",
    "    csv_filename = f\"{transform_type}_data.csv\"\n",
    "    csv_filepath = os.path.join(output_dir, csv_filename)\n",
    "    with open(csv_filepath, 'w', newline='') as csvfile:\n",
    "        csv_writer = csv.writer(csvfile)\n",
    "\n",
    "        # Loop through each image file \n",
    "        for i, image in enumerate(image_files): \n",
    "             \n",
    "          \n",
    "            a = df['Image Name'][i]\n",
    "          \n",
    "            \n",
    "            a = a.split('-')\n",
    "\n",
    "            # Adjust the filename based on the transform_type\n",
    "            if transform_type == 'grayscale':\n",
    "                a = a[0] + 'grayscale-' + a[1]\n",
    "            elif transform_type == 'resize':\n",
    "                a = a[0] + 'resize-' + a[1]\n",
    "            elif transform_type == 'flip':\n",
    "                a = a[0] + 'flip-' + a[1]\n",
    "            elif transform_type == 'rotate':\n",
    "                a = a[0] + 'rotate-' + a[1]\n",
    "            elif transform_type == 'crop':\n",
    "                a = a[0] + 'crop-' + a[1]\n",
    "            elif transform_type == 'gauss':\n",
    "                a = a[0] + 'gauss-' + a[1]\n",
    "\n",
    "            b = df['Latitude'][i]\n",
    "            c = df['Longitude'][i]\n",
    "\n",
    "            # Write the data to the CSV file\n",
    "            csv_writer.writerow([a, b, c])\n",
    "\n",
    "            # Process the image based on the transform_type parameter\n",
    "            image_path = os.path.join(path, image)\n",
    "            if not os.path.isfile(image_path):\n",
    "                print(f\"Error: Image file not found - {image_path}\")\n",
    "                continue\n",
    "\n",
    "            img = cv2.imread(image_path)\n",
    "            if img is None:\n",
    "                print(f\"Error: Failed to load image - {image_path}\")\n",
    "                continue\n",
    "\n",
    "            if transform_type == 'grayscale':\n",
    "                grayscale = cv2.cvtColor(img, cv2.COLOR_BGR2GRAY)\n",
    "                cv2.imwrite(os.path.join(output_dir, a), grayscale)\n",
    "            elif transform_type == 'resize':\n",
    "                resized = cv2.resize(img, (280, 360))\n",
    "                cv2.imwrite(os.path.join(output_dir, a), resized)\n",
    "            elif transform_type == 'flip':\n",
    "                flipped = cv2.flip(img, 1)  # 1 for horizontal flip, 0 for vertical flip\n",
    "                cv2.imwrite(os.path.join(output_dir, a), flipped)\n",
    "            elif transform_type == 'rotate':\n",
    "                rotated = cv2.rotate(img, cv2.ROTATE_90_CLOCKWISE)  # or cv2.ROTATE_90_COUNTERCLOCKWISE\n",
    "                cv2.imwrite(os.path.join(output_dir, a), rotated)\n",
    "            elif transform_type == 'crop':\n",
    "                cropped = img[50:250, 50:250]  # Define your crop region\n",
    "                cv2.imwrite(os.path.join(output_dir, a), cropped)\n",
    "            elif transform_type == 'gauss':\n",
    "                gaussian_blur = cv2.GaussianBlur(img, (5, 5), 5)  # Adjust kernel size and sigma as needed\n",
    "                cv2.imwrite(os.path.join(output_dir, a), gaussian_blur)\n"
   ]
  },
  {
   "cell_type": "code",
   "execution_count": null,
   "metadata": {},
   "outputs": [],
   "source": []
  },
  {
   "cell_type": "code",
   "execution_count": 18,
   "metadata": {},
   "outputs": [
    {
     "ename": "KeyError",
     "evalue": "3153",
     "output_type": "error",
     "traceback": [
      "\u001b[1;31m---------------------------------------------------------------------------\u001b[0m",
      "\u001b[1;31mValueError\u001b[0m                                Traceback (most recent call last)",
      "File \u001b[1;32mc:\\Users\\ahmed\\anaconda3\\envs\\myenv\\Lib\\site-packages\\pandas\\core\\indexes\\range.py:413\u001b[0m, in \u001b[0;36mRangeIndex.get_loc\u001b[1;34m(self, key)\u001b[0m\n\u001b[0;32m    412\u001b[0m \u001b[38;5;28;01mtry\u001b[39;00m:\n\u001b[1;32m--> 413\u001b[0m     \u001b[38;5;28;01mreturn\u001b[39;00m \u001b[38;5;28;43mself\u001b[39;49m\u001b[38;5;241;43m.\u001b[39;49m\u001b[43m_range\u001b[49m\u001b[38;5;241;43m.\u001b[39;49m\u001b[43mindex\u001b[49m\u001b[43m(\u001b[49m\u001b[43mnew_key\u001b[49m\u001b[43m)\u001b[49m\n\u001b[0;32m    414\u001b[0m \u001b[38;5;28;01mexcept\u001b[39;00m \u001b[38;5;167;01mValueError\u001b[39;00m \u001b[38;5;28;01mas\u001b[39;00m err:\n",
      "\u001b[1;31mValueError\u001b[0m: 3153 is not in range",
      "\nThe above exception was the direct cause of the following exception:\n",
      "\u001b[1;31mKeyError\u001b[0m                                  Traceback (most recent call last)",
      "Cell \u001b[1;32mIn[18], line 1\u001b[0m\n\u001b[1;32m----> 1\u001b[0m \u001b[43mprocess_images\u001b[49m\u001b[43m(\u001b[49m\u001b[43mcsv_filepath\u001b[49m\u001b[43m,\u001b[49m\u001b[43m \u001b[49m\u001b[43mdf\u001b[49m\u001b[43m,\u001b[49m\u001b[43m \u001b[49m\u001b[43mimage_files\u001b[49m\u001b[43m,\u001b[49m\u001b[43m \u001b[49m\u001b[43mpath\u001b[49m\u001b[43m,\u001b[49m\u001b[43m \u001b[49m\u001b[38;5;124;43m'\u001b[39;49m\u001b[38;5;124;43mcrop\u001b[39;49m\u001b[38;5;124;43m'\u001b[39;49m\u001b[43m,\u001b[49m\u001b[38;5;124;43m'\u001b[39;49m\u001b[38;5;124;43mE:/AugmentationDataset\u001b[39;49m\u001b[38;5;124;43m'\u001b[39;49m\u001b[43m)\u001b[49m\n",
      "Cell \u001b[1;32mIn[16], line 20\u001b[0m, in \u001b[0;36mprocess_images\u001b[1;34m(csv_filepath, df, image_files, path, transform_type, output_path)\u001b[0m\n\u001b[0;32m     16\u001b[0m \u001b[38;5;66;03m# Loop through each image file \u001b[39;00m\n\u001b[0;32m     17\u001b[0m \u001b[38;5;28;01mfor\u001b[39;00m i, image \u001b[38;5;129;01min\u001b[39;00m \u001b[38;5;28menumerate\u001b[39m(image_files): \n\u001b[1;32m---> 20\u001b[0m     a \u001b[38;5;241m=\u001b[39m \u001b[43mdf\u001b[49m\u001b[43m[\u001b[49m\u001b[38;5;124;43m'\u001b[39;49m\u001b[38;5;124;43mImage Name\u001b[39;49m\u001b[38;5;124;43m'\u001b[39;49m\u001b[43m]\u001b[49m\u001b[43m[\u001b[49m\u001b[43mi\u001b[49m\u001b[43m]\u001b[49m\n\u001b[0;32m     23\u001b[0m     a \u001b[38;5;241m=\u001b[39m a\u001b[38;5;241m.\u001b[39msplit(\u001b[38;5;124m'\u001b[39m\u001b[38;5;124m-\u001b[39m\u001b[38;5;124m'\u001b[39m)\n\u001b[0;32m     25\u001b[0m     \u001b[38;5;66;03m# Adjust the filename based on the transform_type\u001b[39;00m\n",
      "File \u001b[1;32mc:\\Users\\ahmed\\anaconda3\\envs\\myenv\\Lib\\site-packages\\pandas\\core\\series.py:1112\u001b[0m, in \u001b[0;36mSeries.__getitem__\u001b[1;34m(self, key)\u001b[0m\n\u001b[0;32m   1109\u001b[0m     \u001b[38;5;28;01mreturn\u001b[39;00m \u001b[38;5;28mself\u001b[39m\u001b[38;5;241m.\u001b[39m_values[key]\n\u001b[0;32m   1111\u001b[0m \u001b[38;5;28;01melif\u001b[39;00m key_is_scalar:\n\u001b[1;32m-> 1112\u001b[0m     \u001b[38;5;28;01mreturn\u001b[39;00m \u001b[38;5;28;43mself\u001b[39;49m\u001b[38;5;241;43m.\u001b[39;49m\u001b[43m_get_value\u001b[49m\u001b[43m(\u001b[49m\u001b[43mkey\u001b[49m\u001b[43m)\u001b[49m\n\u001b[0;32m   1114\u001b[0m \u001b[38;5;66;03m# Convert generator to list before going through hashable part\u001b[39;00m\n\u001b[0;32m   1115\u001b[0m \u001b[38;5;66;03m# (We will iterate through the generator there to check for slices)\u001b[39;00m\n\u001b[0;32m   1116\u001b[0m \u001b[38;5;28;01mif\u001b[39;00m is_iterator(key):\n",
      "File \u001b[1;32mc:\\Users\\ahmed\\anaconda3\\envs\\myenv\\Lib\\site-packages\\pandas\\core\\series.py:1228\u001b[0m, in \u001b[0;36mSeries._get_value\u001b[1;34m(self, label, takeable)\u001b[0m\n\u001b[0;32m   1225\u001b[0m     \u001b[38;5;28;01mreturn\u001b[39;00m \u001b[38;5;28mself\u001b[39m\u001b[38;5;241m.\u001b[39m_values[label]\n\u001b[0;32m   1227\u001b[0m \u001b[38;5;66;03m# Similar to Index.get_value, but we do not fall back to positional\u001b[39;00m\n\u001b[1;32m-> 1228\u001b[0m loc \u001b[38;5;241m=\u001b[39m \u001b[38;5;28;43mself\u001b[39;49m\u001b[38;5;241;43m.\u001b[39;49m\u001b[43mindex\u001b[49m\u001b[38;5;241;43m.\u001b[39;49m\u001b[43mget_loc\u001b[49m\u001b[43m(\u001b[49m\u001b[43mlabel\u001b[49m\u001b[43m)\u001b[49m\n\u001b[0;32m   1230\u001b[0m \u001b[38;5;28;01mif\u001b[39;00m is_integer(loc):\n\u001b[0;32m   1231\u001b[0m     \u001b[38;5;28;01mreturn\u001b[39;00m \u001b[38;5;28mself\u001b[39m\u001b[38;5;241m.\u001b[39m_values[loc]\n",
      "File \u001b[1;32mc:\\Users\\ahmed\\anaconda3\\envs\\myenv\\Lib\\site-packages\\pandas\\core\\indexes\\range.py:415\u001b[0m, in \u001b[0;36mRangeIndex.get_loc\u001b[1;34m(self, key)\u001b[0m\n\u001b[0;32m    413\u001b[0m         \u001b[38;5;28;01mreturn\u001b[39;00m \u001b[38;5;28mself\u001b[39m\u001b[38;5;241m.\u001b[39m_range\u001b[38;5;241m.\u001b[39mindex(new_key)\n\u001b[0;32m    414\u001b[0m     \u001b[38;5;28;01mexcept\u001b[39;00m \u001b[38;5;167;01mValueError\u001b[39;00m \u001b[38;5;28;01mas\u001b[39;00m err:\n\u001b[1;32m--> 415\u001b[0m         \u001b[38;5;28;01mraise\u001b[39;00m \u001b[38;5;167;01mKeyError\u001b[39;00m(key) \u001b[38;5;28;01mfrom\u001b[39;00m \u001b[38;5;21;01merr\u001b[39;00m\n\u001b[0;32m    416\u001b[0m \u001b[38;5;28;01mif\u001b[39;00m \u001b[38;5;28misinstance\u001b[39m(key, Hashable):\n\u001b[0;32m    417\u001b[0m     \u001b[38;5;28;01mraise\u001b[39;00m \u001b[38;5;167;01mKeyError\u001b[39;00m(key)\n",
      "\u001b[1;31mKeyError\u001b[0m: 3153"
     ]
    }
   ],
   "source": [
    "process_images(csv_filepath, df, image_files, path, 'crop','E:/AugmentationDataset')"
   ]
  },
  {
   "cell_type": "code",
   "execution_count": 19,
   "metadata": {},
   "outputs": [
    {
     "name": "stdout",
     "output_type": "stream",
     "text": [
      "3153\n",
      "3154\n"
     ]
    }
   ],
   "source": [
    "print(len(df))  # Print the length of the DataFrame\n",
    "print(len(image_files))  # Print the number of images\n"
   ]
  }
 ],
 "metadata": {
  "kernelspec": {
   "display_name": "myenv",
   "language": "python",
   "name": "python3"
  },
  "language_info": {
   "codemirror_mode": {
    "name": "ipython",
    "version": 3
   },
   "file_extension": ".py",
   "mimetype": "text/x-python",
   "name": "python",
   "nbconvert_exporter": "python",
   "pygments_lexer": "ipython3",
   "version": "3.12.2"
  }
 },
 "nbformat": 4,
 "nbformat_minor": 2
}
