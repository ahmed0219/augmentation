{
 "cells": [
  {
   "cell_type": "code",
   "execution_count": null,
   "metadata": {},
   "outputs": [],
   "source": [
    "import pandas as pd\n",
    "import numpy as np\n",
    "import matplotlib.pyplot as plt\n",
    "import csv\n",
    "import sys\n",
    "import os\n",
    "import cv2\n"
   ]
  },
  {
   "cell_type": "code",
   "execution_count": null,
   "metadata": {},
   "outputs": [],
   "source": [
    "\n",
    "lat_a = (35, 52, 19.05)  \n",
    "lon_a = (10, 36, 10.28)  \n",
    "lat_b = (35, 49, 42.16)  \n",
    "lon_b = (10, 37, 24.06)  \n",
    "def dms_to_dd(degrees, minutes, seconds):\n",
    "    return degrees + minutes / 60 + seconds / 3600\n",
    "lat_a_dd = dms_to_dd(*lat_a)\n",
    "lon_a_dd = dms_to_dd(*lon_a)\n",
    "lat_b_dd = dms_to_dd(*lat_b)\n",
    "lon_b_dd = dms_to_dd(*lon_b)\n",
    "path = 'E:/data'\n",
    "num_steps = len([f for f in os.listdir(path)if f.endswith('.jpg')])-1\n",
    "interpolated_coords = []\n",
    "for i in range(num_steps + 1):\n",
    "    ratio = i / num_steps\n",
    "    lat = lat_a_dd + (lat_b_dd - lat_a_dd) * ratio\n",
    "    lon = lon_a_dd + (lon_b_dd - lon_a_dd) * ratio\n",
    "    interpolated_coords.append((lat, lon))\n",
    "\n"
   ]
  },
  {
   "cell_type": "code",
   "execution_count": null,
   "metadata": {},
   "outputs": [],
   "source": [
    "\n",
    "def dd_to_dms(decimal_degrees):\n",
    "    degrees = int(decimal_degrees)\n",
    "    minutes = int((decimal_degrees - degrees) * 60)\n",
    "    seconds = (decimal_degrees - degrees - minutes / 60) * 3600\n",
    "    return degrees, minutes, seconds\n",
    "\n"
   ]
  },
  {
   "cell_type": "code",
   "execution_count": null,
   "metadata": {},
   "outputs": [],
   "source": [
    "data_dir = \"C:/Users/ahmed/Desktop/test\"\n",
    "image_files = os.listdir(path)\n",
    "image_coords_list = []\n",
    "for image_file, coord in zip(image_files, interpolated_coords):\n",
    "    lat_deg, lat_min, lat_sec = dd_to_dms(coord[0])\n",
    "    lon_deg, lon_min, lon_sec = dd_to_dms(coord[1])\n",
    "    lat_str = f\"{lat_deg}°{lat_min}'{lat_sec:.2f}\\\"N\"\n",
    "    lon_str = f\"{lon_deg}°{lon_min}'{lon_sec:.2f}\\\"E\"\n",
    "\n",
    "    image_coords_list.append((image_file, lat_str, lon_str))\n",
    "\n",
    "\n",
    "csv_filename = \"image_coordinates.csv\"\n",
    "csv_filepath = os.path.join(data_dir, csv_filename)\n",
    "with open(csv_filepath, \"w\", newline=\"\") as csvfile:\n",
    "    writer = csv.writer(csvfile)\n",
    "    writer.writerow([\"Image Name\", \"Latitude\", \"Longitude\"])\n",
    "    for image_coord in image_coords_list:\n",
    "        writer.writerow(image_coord)\n",
    "\n",
    "print(f\"CSV file '{csv_filepath}' has been created successfully.\")"
   ]
  },
  {
   "cell_type": "code",
   "execution_count": null,
   "metadata": {},
   "outputs": [],
   "source": [
    "df=pd.read_csv(csv_filepath)\n"
   ]
  },
  {
   "cell_type": "code",
   "execution_count": null,
   "metadata": {},
   "outputs": [],
   "source": [
    "\n",
    "for image in os.listdir(path):\n",
    "    img =cv2.imread(os.path.join(path, image))\n",
    "    flip_horizontal = cv2.flip(img, 1)\n",
    "    cv2.imwrite(os.path.join(path, f\"flip_horizontal_{image}\"), flip_horizontal)\n",
    "\n",
    "\n",
    "    \n",
    "    \"\"\"flip_vertical = cv2.flip(img, 0)\n",
    "    flip_both = cv2.flip(img, -1)\n",
    "    grayscale = cv2.cvtColor(img, cv2.COLOR_BGR2GRAY)\n",
    "    cv2.imwrite(os.path.join(path, f\"grayscale_{image}\"), grayscale)\n",
    "    cv2.imwrite(os.path.join(path, f\"flip_horizontal_{image}\"), flip_horizontal)\n",
    "    cv2.imwrite(os.path.join(path, f\"flip_vertical_{image}\"), flip_vertical)\n",
    "    cv2.imwrite(os.path.join(path, f\"flip_both_{image}\"), flip_both)\"\"\""
   ]
  },
  {
   "cell_type": "code",
   "execution_count": null,
   "metadata": {},
   "outputs": [],
   "source": [
    "\n",
    "csv_columns = ['Image Name', 'Longitude', 'Latitude']\n",
    "for image_name in df['Image Name']:\n",
    "    image_path = os.path.join(path, image_name)\n",
    "    img = cv2.imread(image_path)\n",
    "\n",
    "    flip_horizontal = cv2.flip(img, 1)\n",
    "    flip_vertical = cv2.flip(img, 0)\n",
    "    flip_both = cv2.flip(img, -1)\n",
    "    grayscale = cv2.cvtColor(img, cv2.COLOR_BGR2GRAY)\n",
    "\n",
    "    # Write processed images to disk\n",
    "    cv2.imwrite(os.path.join(path, f\"grayscale_{image_name}\"), grayscale)\n",
    "    cv2.imwrite(os.path.join(path, f\"flip_horizontal_{image_name}\"), flip_horizontal)\n",
    "    cv2.imwrite(os.path.join(path, f\"flip_vertical_{image_name}\"), flip_vertical)\n",
    "    cv2.imwrite(os.path.join(path, f\"flip_both_{image_name}\"), flip_both)\n",
    "\n",
    "    # Append image information to CSV\n",
    "    image_info = {\n",
    "        'Image Name': image_name,\n",
    "        'Longitude': df[df['Image Name'] == image_name]['Longitude'].values[0],\n",
    "        'Latitude': df[df['Image Name'] == image_name]['Latitude'].values[0]\n",
    "    }\n",
    "    with open(csv_filepath, 'a') as csv_file:\n",
    "        writer = csv.DictWriter(csv_file, fieldnames=csv_columns)\n",
    "        writer.writerow(image_info)\n",
    "df=pd.read_csv(csv_filepath)\n",
    "df\n",
    "\n"
   ]
  },
  {
   "cell_type": "code",
   "execution_count": null,
   "metadata": {},
   "outputs": [],
   "source": [
    "for image_name in df['Image Name']:\n",
    "    image_path = os.path.join(path, image_name)\n",
    "    img = cv2.imread(image_path)\n",
    "\n",
    "    flip_horizontal = cv2.flip(img, 1)\n",
    "    flip_vertical = cv2.flip(img, 0)\n",
    "    flip_both = cv2.flip(img, -1)\n",
    "    grayscale = cv2.cvtColor(img, cv2.COLOR_BGR2GRAY)\n",
    "\n",
    "    # Write processed images to disk\n",
    "    cv2.imwrite(os.path.join(path, f\"grayscale_{image_name}\"), grayscale)\n",
    "    cv2.imwrite(os.path.join(path, f\"flip_horizontal_{image_name}\"), flip_horizontal)\n",
    "    cv2.imwrite(os.path.join(path, f\"flip_vertical_{image_name}\"), flip_vertical)\n",
    "    cv2.imwrite(os.path.join(path, f\"flip_both_{image_name}\"), flip_both)\n",
    "\n",
    "    \n",
    "    image_info = {\n",
    "        'Image Name': image_name,\n",
    "        'Longitude': df[df['Image Name'] == image_name]['Longitude'].values[0],\n",
    "        'Latitude': df[df['Image Name'] == image_name]['Latitude'].values[0]\n",
    "    }\n",
    "    with open(csv_filepath, 'a') as csv_file:\n",
    "        writer = csv.DictWriter(csv_file, fieldnames=csv_columns)\n",
    "        writer.writerow(image_info)\n",
    "df=pd.read_csv(csv_filepath)\n",
    "df"
   ]
  }
 ],
 "metadata": {
  "kernelspec": {
   "display_name": "myenv",
   "language": "python",
   "name": "python3"
  },
  "language_info": {
   "codemirror_mode": {
    "name": "ipython",
    "version": 3
   },
   "file_extension": ".py",
   "mimetype": "text/x-python",
   "name": "python",
   "nbconvert_exporter": "python",
   "pygments_lexer": "ipython3",
   "version": "3.12.2"
  }
 },
 "nbformat": 4,
 "nbformat_minor": 2
}
